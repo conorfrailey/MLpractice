{
 "cells": [
  {
   "cell_type": "code",
   "execution_count": 1,
   "metadata": {},
   "outputs": [],
   "source": [
    "from sklearn.neural_network import MLPClassifier"
   ]
  },
  {
   "cell_type": "markdown",
   "metadata": {},
   "source": [
    "MLP stands for multi layer perceptron classifier"
   ]
  },
  {
   "cell_type": "markdown",
   "metadata": {},
   "source": [
    "# Notes on parameters\n",
    "__hidden_layer_sizes__ obvi\n",
    "\n",
    "__activation__ standard options. \n",
    "\n",
    "__solver__\n",
    "- [lbfgs](https://en.wikipedia.org/wiki/Limited-memory_BFGS) Brief recap: Newton's method fits a quadratic to the the current point and updates with the min of that quadratic which is $-f'/f''$. lbfgs is an approx of this method by finding a quasi inverse of the hessian of f (the $f''$ matrix)\n",
    "- sgd stochastic gradient descent (update after each training example)\n",
    "- adam "
   ]
  },
  {
   "cell_type": "code",
   "execution_count": null,
   "metadata": {},
   "outputs": [],
   "source": []
  }
 ],
 "metadata": {
  "kernelspec": {
   "display_name": "Python 3",
   "language": "python",
   "name": "python3"
  },
  "language_info": {
   "codemirror_mode": {
    "name": "ipython",
    "version": 3
   },
   "file_extension": ".py",
   "mimetype": "text/x-python",
   "name": "python",
   "nbconvert_exporter": "python",
   "pygments_lexer": "ipython3",
   "version": "3.7.3"
  }
 },
 "nbformat": 4,
 "nbformat_minor": 2
}
