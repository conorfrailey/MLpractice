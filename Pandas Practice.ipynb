{
 "cells": [
  {
   "cell_type": "markdown",
   "metadata": {},
   "source": [
    "# Pandas practice"
   ]
  },
  {
   "cell_type": "markdown",
   "metadata": {},
   "source": [
    "Write a Python program to create and display a one-dimensional array-like object containing an array of data using Pandas module"
   ]
  },
  {
   "cell_type": "code",
   "execution_count": 2,
   "metadata": {},
   "outputs": [],
   "source": [
    "import pandas as pd"
   ]
  },
  {
   "cell_type": "code",
   "execution_count": 3,
   "metadata": {},
   "outputs": [],
   "source": [
    "def to_array(x):\n",
    "    print(pd.Series(x))\n",
    "    return(pd.Series(x))"
   ]
  },
  {
   "cell_type": "code",
   "execution_count": 4,
   "metadata": {},
   "outputs": [
    {
     "name": "stdout",
     "output_type": "stream",
     "text": [
      "0    1\n",
      "1    2\n",
      "2    3\n",
      "dtype: int64\n"
     ]
    }
   ],
   "source": [
    "conor = [1,2,3]\n",
    "ethan = to_array(conor)"
   ]
  },
  {
   "cell_type": "markdown",
   "metadata": {},
   "source": [
    "Write a Python program to convert a Panda module Series to Python list and it's type"
   ]
  },
  {
   "cell_type": "code",
   "execution_count": 5,
   "metadata": {
    "scrolled": true
   },
   "outputs": [
    {
     "name": "stdout",
     "output_type": "stream",
     "text": [
      "int64\n",
      "True\n"
     ]
    }
   ],
   "source": [
    "def to_list(x):\n",
    "    return(x.to_list(),x.dtype)\n",
    "conorone, t = to_list(ethan)\n",
    "print(t)\n",
    "print(conorone==conor)"
   ]
  },
  {
   "cell_type": "markdown",
   "metadata": {},
   "source": [
    "Write a Python program to add, subtract, multiple and divide two Pandas Series"
   ]
  },
  {
   "cell_type": "code",
   "execution_count": 6,
   "metadata": {},
   "outputs": [
    {
     "name": "stdout",
     "output_type": "stream",
     "text": [
      "0    4\n",
      "1    5\n",
      "2    6\n",
      "dtype: int64\n"
     ]
    }
   ],
   "source": [
    "def ops(x,y):\n",
    "    return(x+y,x-y,x*y)\n",
    "aseries = to_array([4,5,6])"
   ]
  },
  {
   "cell_type": "code",
   "execution_count": 7,
   "metadata": {},
   "outputs": [
    {
     "name": "stdout",
     "output_type": "stream",
     "text": [
      "(0    5\n",
      "1    7\n",
      "2    9\n",
      "dtype: int64, 0   -3\n",
      "1   -3\n",
      "2   -3\n",
      "dtype: int64, 0     4\n",
      "1    10\n",
      "2    18\n",
      "dtype: int64)\n"
     ]
    }
   ],
   "source": [
    "print(ops(conor,aseries))"
   ]
  },
  {
   "cell_type": "markdown",
   "metadata": {},
   "source": [
    "Write a Python program to get the largest integer smaller or equal to the division of the inputs."
   ]
  },
  {
   "cell_type": "code",
   "execution_count": 8,
   "metadata": {},
   "outputs": [
    {
     "name": "stdout",
     "output_type": "stream",
     "text": [
      "1\n"
     ]
    }
   ],
   "source": [
    "def smallestone(x,y):\n",
    "    return(min(x) if min(x) < min(y) else min(y))\n",
    "print(smallestone(ethan,aseries))"
   ]
  },
  {
   "cell_type": "code",
   "execution_count": 9,
   "metadata": {},
   "outputs": [],
   "source": [
    "h =ethan.sort_values(ascending=False).reset_index()"
   ]
  },
  {
   "cell_type": "code",
   "execution_count": 10,
   "metadata": {},
   "outputs": [],
   "source": [
    "del h['index']"
   ]
  },
  {
   "cell_type": "code",
   "execution_count": 11,
   "metadata": {},
   "outputs": [
    {
     "data": {
      "text/plain": [
       "0    3\n",
       "1    2\n",
       "2    1\n",
       "Name: 0, dtype: int64"
      ]
     },
     "execution_count": 11,
     "metadata": {},
     "output_type": "execute_result"
    }
   ],
   "source": [
    "h.squeeze()"
   ]
  },
  {
   "cell_type": "code",
   "execution_count": 12,
   "metadata": {},
   "outputs": [],
   "source": [
    "joined = ethan.append(h)"
   ]
  },
  {
   "cell_type": "code",
   "execution_count": 14,
   "metadata": {},
   "outputs": [
    {
     "name": "stdout",
     "output_type": "stream",
     "text": [
      "   0\n",
      "0  1\n",
      "1  2\n",
      "2  3\n",
      "3  3\n",
      "4  2\n",
      "5  1\n"
     ]
    }
   ],
   "source": [
    "print(joined.reset_index(drop=True))"
   ]
  },
  {
   "cell_type": "code",
   "execution_count": 16,
   "metadata": {},
   "outputs": [
    {
     "data": {
      "text/html": [
       "<div>\n",
       "<style scoped>\n",
       "    .dataframe tbody tr th:only-of-type {\n",
       "        vertical-align: middle;\n",
       "    }\n",
       "\n",
       "    .dataframe tbody tr th {\n",
       "        vertical-align: top;\n",
       "    }\n",
       "\n",
       "    .dataframe thead th {\n",
       "        text-align: right;\n",
       "    }\n",
       "</style>\n",
       "<table border=\"1\" class=\"dataframe\">\n",
       "  <thead>\n",
       "    <tr style=\"text-align: right;\">\n",
       "      <th></th>\n",
       "      <th>0</th>\n",
       "    </tr>\n",
       "  </thead>\n",
       "  <tbody>\n",
       "    <tr>\n",
       "      <th>0</th>\n",
       "      <td>1</td>\n",
       "    </tr>\n",
       "    <tr>\n",
       "      <th>1</th>\n",
       "      <td>2</td>\n",
       "    </tr>\n",
       "    <tr>\n",
       "      <th>2</th>\n",
       "      <td>3</td>\n",
       "    </tr>\n",
       "  </tbody>\n",
       "</table>\n",
       "</div>"
      ],
      "text/plain": [
       "   0\n",
       "0  1\n",
       "1  2\n",
       "2  3"
      ]
     },
     "execution_count": 16,
     "metadata": {},
     "output_type": "execute_result"
    }
   ],
   "source": [
    "joined.iloc[[0,1,2]]"
   ]
  },
  {
   "cell_type": "code",
   "execution_count": 25,
   "metadata": {},
   "outputs": [
    {
     "data": {
      "text/plain": [
       "Int64Index([0], dtype='int64')"
      ]
     },
     "execution_count": 25,
     "metadata": {},
     "output_type": "execute_result"
    }
   ],
   "source": [
    "joined.columns"
   ]
  },
  {
   "cell_type": "code",
   "execution_count": 21,
   "metadata": {},
   "outputs": [],
   "source": [
    "df = pd.DataFrame({'name':['conor','ethan','fred'],'age':[35,35,78],'good at gardening':[True,True,False]})"
   ]
  },
  {
   "cell_type": "code",
   "execution_count": 22,
   "metadata": {},
   "outputs": [
    {
     "name": "stdout",
     "output_type": "stream",
     "text": [
      "    name  age  good at gardening\n",
      "0  conor   35               True\n",
      "1  ethan   35               True\n",
      "2   fred   78              False\n"
     ]
    }
   ],
   "source": [
    "print(df)"
   ]
  },
  {
   "cell_type": "code",
   "execution_count": 26,
   "metadata": {},
   "outputs": [],
   "source": [
    "df2 = df.copy()"
   ]
  },
  {
   "cell_type": "code",
   "execution_count": 27,
   "metadata": {},
   "outputs": [
    {
     "data": {
      "text/plain": [
       "Index(['name', 'age', 'good at gardening'], dtype='object')"
      ]
     },
     "execution_count": 27,
     "metadata": {},
     "output_type": "execute_result"
    }
   ],
   "source": [
    "df2.columns"
   ]
  },
  {
   "cell_type": "code",
   "execution_count": 28,
   "metadata": {},
   "outputs": [],
   "source": [
    "df2.columns = ['name', 'age2', 'gatg']"
   ]
  },
  {
   "cell_type": "code",
   "execution_count": 29,
   "metadata": {},
   "outputs": [
    {
     "data": {
      "text/html": [
       "<div>\n",
       "<style scoped>\n",
       "    .dataframe tbody tr th:only-of-type {\n",
       "        vertical-align: middle;\n",
       "    }\n",
       "\n",
       "    .dataframe tbody tr th {\n",
       "        vertical-align: top;\n",
       "    }\n",
       "\n",
       "    .dataframe thead th {\n",
       "        text-align: right;\n",
       "    }\n",
       "</style>\n",
       "<table border=\"1\" class=\"dataframe\">\n",
       "  <thead>\n",
       "    <tr style=\"text-align: right;\">\n",
       "      <th></th>\n",
       "      <th>name</th>\n",
       "      <th>age2</th>\n",
       "      <th>gatg</th>\n",
       "    </tr>\n",
       "  </thead>\n",
       "  <tbody>\n",
       "    <tr>\n",
       "      <th>0</th>\n",
       "      <td>conor</td>\n",
       "      <td>35</td>\n",
       "      <td>True</td>\n",
       "    </tr>\n",
       "    <tr>\n",
       "      <th>1</th>\n",
       "      <td>ethan</td>\n",
       "      <td>35</td>\n",
       "      <td>True</td>\n",
       "    </tr>\n",
       "    <tr>\n",
       "      <th>2</th>\n",
       "      <td>fred</td>\n",
       "      <td>78</td>\n",
       "      <td>False</td>\n",
       "    </tr>\n",
       "  </tbody>\n",
       "</table>\n",
       "</div>"
      ],
      "text/plain": [
       "    name  age2   gatg\n",
       "0  conor    35   True\n",
       "1  ethan    35   True\n",
       "2   fred    78  False"
      ]
     },
     "execution_count": 29,
     "metadata": {},
     "output_type": "execute_result"
    }
   ],
   "source": [
    "df2"
   ]
  },
  {
   "cell_type": "code",
   "execution_count": 33,
   "metadata": {},
   "outputs": [],
   "source": [
    "df3 = pd.merge(df,df2,how='inner',left_on='age',right_on='age2')"
   ]
  },
  {
   "cell_type": "code",
   "execution_count": 34,
   "metadata": {},
   "outputs": [
    {
     "data": {
      "text/html": [
       "<div>\n",
       "<style scoped>\n",
       "    .dataframe tbody tr th:only-of-type {\n",
       "        vertical-align: middle;\n",
       "    }\n",
       "\n",
       "    .dataframe tbody tr th {\n",
       "        vertical-align: top;\n",
       "    }\n",
       "\n",
       "    .dataframe thead th {\n",
       "        text-align: right;\n",
       "    }\n",
       "</style>\n",
       "<table border=\"1\" class=\"dataframe\">\n",
       "  <thead>\n",
       "    <tr style=\"text-align: right;\">\n",
       "      <th></th>\n",
       "      <th>name_x</th>\n",
       "      <th>age</th>\n",
       "      <th>good at gardening</th>\n",
       "      <th>name_y</th>\n",
       "      <th>age2</th>\n",
       "      <th>gatg</th>\n",
       "    </tr>\n",
       "  </thead>\n",
       "  <tbody>\n",
       "    <tr>\n",
       "      <th>0</th>\n",
       "      <td>conor</td>\n",
       "      <td>35</td>\n",
       "      <td>True</td>\n",
       "      <td>conor</td>\n",
       "      <td>35</td>\n",
       "      <td>True</td>\n",
       "    </tr>\n",
       "    <tr>\n",
       "      <th>1</th>\n",
       "      <td>conor</td>\n",
       "      <td>35</td>\n",
       "      <td>True</td>\n",
       "      <td>ethan</td>\n",
       "      <td>35</td>\n",
       "      <td>True</td>\n",
       "    </tr>\n",
       "    <tr>\n",
       "      <th>2</th>\n",
       "      <td>ethan</td>\n",
       "      <td>35</td>\n",
       "      <td>True</td>\n",
       "      <td>conor</td>\n",
       "      <td>35</td>\n",
       "      <td>True</td>\n",
       "    </tr>\n",
       "    <tr>\n",
       "      <th>3</th>\n",
       "      <td>ethan</td>\n",
       "      <td>35</td>\n",
       "      <td>True</td>\n",
       "      <td>ethan</td>\n",
       "      <td>35</td>\n",
       "      <td>True</td>\n",
       "    </tr>\n",
       "    <tr>\n",
       "      <th>4</th>\n",
       "      <td>fred</td>\n",
       "      <td>78</td>\n",
       "      <td>False</td>\n",
       "      <td>fred</td>\n",
       "      <td>78</td>\n",
       "      <td>False</td>\n",
       "    </tr>\n",
       "  </tbody>\n",
       "</table>\n",
       "</div>"
      ],
      "text/plain": [
       "  name_x  age  good at gardening name_y  age2   gatg\n",
       "0  conor   35               True  conor    35   True\n",
       "1  conor   35               True  ethan    35   True\n",
       "2  ethan   35               True  conor    35   True\n",
       "3  ethan   35               True  ethan    35   True\n",
       "4   fred   78              False   fred    78  False"
      ]
     },
     "execution_count": 34,
     "metadata": {},
     "output_type": "execute_result"
    }
   ],
   "source": [
    "df3"
   ]
  },
  {
   "cell_type": "code",
   "execution_count": 35,
   "metadata": {},
   "outputs": [
    {
     "name": "stdout",
     "output_type": "stream",
     "text": [
      "Help on method assign in module pandas.core.frame:\n",
      "\n",
      "assign(**kwargs) method of pandas.core.frame.DataFrame instance\n",
      "    Assign new columns to a DataFrame.\n",
      "    \n",
      "    Returns a new object with all original columns in addition to new ones.\n",
      "    Existing columns that are re-assigned will be overwritten.\n",
      "    \n",
      "    Parameters\n",
      "    ----------\n",
      "    **kwargs : dict of {str: callable or Series}\n",
      "        The column names are keywords. If the values are\n",
      "        callable, they are computed on the DataFrame and\n",
      "        assigned to the new columns. The callable must not\n",
      "        change input DataFrame (though pandas doesn't check it).\n",
      "        If the values are not callable, (e.g. a Series, scalar, or array),\n",
      "        they are simply assigned.\n",
      "    \n",
      "    Returns\n",
      "    -------\n",
      "    DataFrame\n",
      "        A new DataFrame with the new columns in addition to\n",
      "        all the existing columns.\n",
      "    \n",
      "    Notes\n",
      "    -----\n",
      "    Assigning multiple columns within the same ``assign`` is possible.\n",
      "    For Python 3.6 and above, later items in '\\*\\*kwargs' may refer to\n",
      "    newly created or modified columns in 'df'; items are computed and\n",
      "    assigned into 'df' in order.  For Python 3.5 and below, the order of\n",
      "    keyword arguments is not specified, you cannot refer to newly created\n",
      "    or modified columns. All items are computed first, and then assigned\n",
      "    in alphabetical order.\n",
      "    \n",
      "    .. versionchanged :: 0.23.0\n",
      "    \n",
      "       Keyword argument order is maintained for Python 3.6 and later.\n",
      "    \n",
      "    Examples\n",
      "    --------\n",
      "    >>> df = pd.DataFrame({'temp_c': [17.0, 25.0]},\n",
      "    ...                   index=['Portland', 'Berkeley'])\n",
      "    >>> df\n",
      "              temp_c\n",
      "    Portland    17.0\n",
      "    Berkeley    25.0\n",
      "    \n",
      "    Where the value is a callable, evaluated on `df`:\n",
      "    \n",
      "    >>> df.assign(temp_f=lambda x: x.temp_c * 9 / 5 + 32)\n",
      "              temp_c  temp_f\n",
      "    Portland    17.0    62.6\n",
      "    Berkeley    25.0    77.0\n",
      "    \n",
      "    Alternatively, the same behavior can be achieved by directly\n",
      "    referencing an existing Series or sequence:\n",
      "    \n",
      "    >>> df.assign(temp_f=df['temp_c'] * 9 / 5 + 32)\n",
      "              temp_c  temp_f\n",
      "    Portland    17.0    62.6\n",
      "    Berkeley    25.0    77.0\n",
      "    \n",
      "    In Python 3.6+, you can create multiple columns within the same assign\n",
      "    where one of the columns depends on another one defined within the same\n",
      "    assign:\n",
      "    \n",
      "    >>> df.assign(temp_f=lambda x: x['temp_c'] * 9 / 5 + 32,\n",
      "    ...           temp_k=lambda x: (x['temp_f'] +  459.67) * 5 / 9)\n",
      "              temp_c  temp_f  temp_k\n",
      "    Portland    17.0    62.6  290.15\n",
      "    Berkeley    25.0    77.0  298.15\n",
      "\n"
     ]
    }
   ],
   "source": [
    "help(df3.assign)"
   ]
  },
  {
   "cell_type": "code",
   "execution_count": 40,
   "metadata": {},
   "outputs": [],
   "source": [
    "df4 = df3.groupby(['name_x']).agg({'age':sum})"
   ]
  },
  {
   "cell_type": "code",
   "execution_count": 42,
   "metadata": {},
   "outputs": [
    {
     "data": {
      "text/plain": [
       "Index(['age'], dtype='object')"
      ]
     },
     "execution_count": 42,
     "metadata": {},
     "output_type": "execute_result"
    }
   ],
   "source": [
    "df4.columns"
   ]
  },
  {
   "cell_type": "code",
   "execution_count": null,
   "metadata": {},
   "outputs": [],
   "source": [
    "df4[]"
   ]
  }
 ],
 "metadata": {
  "kernelspec": {
   "display_name": "Python 3",
   "language": "python",
   "name": "python3"
  },
  "language_info": {
   "codemirror_mode": {
    "name": "ipython",
    "version": 3
   },
   "file_extension": ".py",
   "mimetype": "text/x-python",
   "name": "python",
   "nbconvert_exporter": "python",
   "pygments_lexer": "ipython3",
   "version": "3.7.3"
  }
 },
 "nbformat": 4,
 "nbformat_minor": 2
}
